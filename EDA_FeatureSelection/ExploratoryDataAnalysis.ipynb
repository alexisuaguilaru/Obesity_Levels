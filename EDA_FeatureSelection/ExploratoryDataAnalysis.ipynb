{
 "cells": [
  {
   "cell_type": "code",
   "execution_count": 1,
   "metadata": {},
   "outputs": [],
   "source": [
    "# Importing required libraries\n",
    "import pandas as pd"
   ]
  },
  {
   "cell_type": "code",
   "execution_count": 2,
   "metadata": {},
   "outputs": [],
   "source": [
    "# Utilities and functions\n",
    "import DataTransformations"
   ]
  },
  {
   "cell_type": "code",
   "execution_count": 3,
   "metadata": {},
   "outputs": [],
   "source": [
    "ObesityDataset_Raw = pd.read_csv('./ObesityDataset_Raw.csv')"
   ]
  },
  {
   "cell_type": "code",
   "execution_count": 4,
   "metadata": {},
   "outputs": [],
   "source": [
    "NumericalLabels , CategoricalLabels = DataTransformations.NumericalCategoricalLabels(ObesityDataset_Raw)"
   ]
  },
  {
   "cell_type": "code",
   "execution_count": 5,
   "metadata": {},
   "outputs": [],
   "source": [
    "CategoricalLabel_NumericalValues = [\n",
    "    {CategoricalValue : NumericalValue for NumericalValue , CategoricalValue in enumerate(['Female', 'Male'])},\n",
    "    {CategoricalValue : NumericalValue for NumericalValue , CategoricalValue in enumerate(['no','yes'])},\n",
    "    {CategoricalValue : NumericalValue for NumericalValue , CategoricalValue in enumerate(['no','yes'])},\n",
    "    {CategoricalValue : NumericalValue for NumericalValue , CategoricalValue in enumerate(['no','Sometimes', 'Frequently', 'Always'])},\n",
    "    {CategoricalValue : NumericalValue for NumericalValue , CategoricalValue in enumerate(['no','yes'])},\n",
    "    {CategoricalValue : NumericalValue for NumericalValue , CategoricalValue in enumerate(['no','yes'])},\n",
    "    {CategoricalValue : NumericalValue for NumericalValue , CategoricalValue in enumerate(['no','Sometimes', 'Frequently', 'Always'])},\n",
    "    {CategoricalValue : NumericalValue for NumericalValue , CategoricalValue in enumerate(['Walking', 'Bike', 'Public_Transportation', 'Motorbike', 'Automobile'])},\n",
    "    {CategoricalValue : NumericalValue for NumericalValue , CategoricalValue in enumerate(['Insufficient_Weight', 'Normal_Weight', 'Overweight_Level_I', 'Overweight_Level_II', 'Obesity_Type_I', 'Obesity_Type_II', 'Obesity_Type_III'])}\n",
    "]\n",
    "\n",
    "for CategoricalLabel , NumericalValues in zip(CategoricalLabels,CategoricalLabel_NumericalValues):\n",
    "    DataTransformations.CategoricalIntoNumerical(ObesityDataset_Raw,CategoricalLabel,NumericalValues)"
   ]
  }
 ],
 "metadata": {
  "kernelspec": {
   "display_name": "Python 3",
   "language": "python",
   "name": "python3"
  },
  "language_info": {
   "codemirror_mode": {
    "name": "ipython",
    "version": 3
   },
   "file_extension": ".py",
   "mimetype": "text/x-python",
   "name": "python",
   "nbconvert_exporter": "python",
   "pygments_lexer": "ipython3",
   "version": "3.12.5"
  }
 },
 "nbformat": 4,
 "nbformat_minor": 2
}
